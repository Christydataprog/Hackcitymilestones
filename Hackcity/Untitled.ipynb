{
 "cells": [
  {
   "cell_type": "code",
   "execution_count": null,
   "id": "bf2508a9",
   "metadata": {},
   "outputs": [],
   "source": [
    "from turtle import Screen, Turtle\n",
    "screen = Screen()\n",
    "screen.setup(width=600, height=600)\n",
    "screen.bgcolor(\"black\")\n",
    "screen.title(\"My Snake Game\")\n",
    "\n",
    "\n",
    "# segment_1 = Turtle(\"square\")\n",
    "# segment_1.color(\"\")\n",
    "\n",
    "starting_positions =[(0, 0), (-20, 0), (-40, 0)]\n",
    "\n",
    "for position in starting_positions:\n",
    "    new_segment = Turtle(\"square\")\n",
    "    new_segment.color(\"white\")\n",
    "    new_segment.goto(position)\n",
    "\n",
    "\n",
    "\n",
    "\n",
    "\n",
    "\n",
    "\n",
    "screen.exitonclick()"
   ]
  },
  {
   "cell_type": "code",
   "execution_count": null,
   "id": "025925d6",
   "metadata": {},
   "outputs": [],
   "source": []
  }
 ],
 "metadata": {
  "kernelspec": {
   "display_name": "Python 3 (ipykernel)",
   "language": "python",
   "name": "python3"
  },
  "language_info": {
   "codemirror_mode": {
    "name": "ipython",
    "version": 3
   },
   "file_extension": ".py",
   "mimetype": "text/x-python",
   "name": "python",
   "nbconvert_exporter": "python",
   "pygments_lexer": "ipython3",
   "version": "3.9.13"
  }
 },
 "nbformat": 4,
 "nbformat_minor": 5
}
