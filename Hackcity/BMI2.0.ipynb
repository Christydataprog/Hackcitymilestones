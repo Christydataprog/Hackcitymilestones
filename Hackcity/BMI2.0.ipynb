{
 "cells": [
  {
   "cell_type": "code",
   "execution_count": 17,
   "id": "d4be0c02",
   "metadata": {},
   "outputs": [
    {
     "name": "stdout",
     "output_type": "stream",
     "text": [
      "Welcome to BMI Calculator.\n",
      "What is your weight in kg?150\n",
      "What is your height in m?1.75\n",
      "Your bmi is 48.98, you are clinically obese.\n"
     ]
    }
   ],
   "source": [
    "print(\"Welcome to BMI Calculator.\") \n",
    "weight = int(input(\"What is your weight in kg?\"))\n",
    "height = float(input(\"What is your height in m?\"))\n",
    "\n",
    "bmicalc = round(weight/(height * height), 2)\n",
    "# print (bmi)\n",
    "if bmicalc < 18.5:\n",
    "    print(f\"Your bmi is {bmicalc}, you are underweight.\")\n",
    "elif bmicalc < 25:\n",
    "        print(f\"Your bmi is {bmicalc}, you have a normal weight.\")\n",
    "elif bmicalc < 30:\n",
    "        print(f\"Your bmi is {bmicalc}, you are slightly overweight. \")\n",
    "elif bmicalc < 35:\n",
    "         print(f\"Your bmi is {bmicalc}, you are obese.\")\n",
    "else:\n",
    "    print (f\"Your bmi is {bmicalc}, you are clinically obese.\")\n",
    "    \n",
    "        "
   ]
  },
  {
   "cell_type": "code",
   "execution_count": null,
   "id": "6bf46b10",
   "metadata": {},
   "outputs": [],
   "source": []
  }
 ],
 "metadata": {
  "kernelspec": {
   "display_name": "Python 3 (ipykernel)",
   "language": "python",
   "name": "python3"
  },
  "language_info": {
   "codemirror_mode": {
    "name": "ipython",
    "version": 3
   },
   "file_extension": ".py",
   "mimetype": "text/x-python",
   "name": "python",
   "nbconvert_exporter": "python",
   "pygments_lexer": "ipython3",
   "version": "3.9.13"
  }
 },
 "nbformat": 4,
 "nbformat_minor": 5
}
