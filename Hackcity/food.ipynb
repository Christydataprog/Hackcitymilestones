{
 "cells": [
  {
   "cell_type": "code",
   "execution_count": 5,
   "id": "164c7269",
   "metadata": {},
   "outputs": [],
   "source": [
    "from turtle import Turtle\n",
    "import random\n",
    "\n",
    "\n",
    "class Food(Turtle):\n",
    "\n",
    "    def __int__(self):\n",
    "        super().__init__()\n",
    "        self.shape(\"circle\")\n",
    "        self.penup()\n",
    "        self.shapesize(stretch_len=0.5, stretch_wid=0.5)\n",
    "        self.color(\"blue\")\n",
    "        self.speed(\"fastest\")\n",
    "        self.refresh()\n",
    "\n",
    "    def refresh(self):\n",
    "        random_x = random.randint(-280, 280)\n",
    "        random_y = random.randint(-280, 280)\n",
    "        self.goto(random_x, random_y)"
   ]
  },
  {
   "cell_type": "code",
   "execution_count": null,
   "id": "5b9fc684",
   "metadata": {},
   "outputs": [],
   "source": []
  }
 ],
 "metadata": {
  "kernelspec": {
   "display_name": "Python 3 (ipykernel)",
   "language": "python",
   "name": "python3"
  },
  "language_info": {
   "codemirror_mode": {
    "name": "ipython",
    "version": 3
   },
   "file_extension": ".py",
   "mimetype": "text/x-python",
   "name": "python",
   "nbconvert_exporter": "python",
   "pygments_lexer": "ipython3",
   "version": "3.9.13"
  }
 },
 "nbformat": 4,
 "nbformat_minor": 5
}
