{
 "cells": [
  {
   "cell_type": "code",
   "execution_count": 13,
   "id": "dfb98bd4",
   "metadata": {},
   "outputs": [
    {
     "name": "stdout",
     "output_type": "stream",
     "text": [
      "Welcome to Python Pizza Order Program\n",
      "What size of pizza do you want? S,M or L \n",
      "S\n",
      "Would you like to add pepperoni? Y or N \n",
      "Y\n",
      "Do you want extra cheese? Y or N \n",
      "Y\n",
      "Your final bill is: $18\n"
     ]
    }
   ],
   "source": [
    "print(\"Welcome to Python Pizza Order Program\")\n",
    "size = input(\"What size of pizza do you want? S,M or L \\n\")\n",
    "add_pepperoni = input(\"Would you like to add pepperoni? Y or N \\n\")\n",
    "\n",
    "extra_cheese = input(\"Do you want extra cheese? Y or N \\n\")\n",
    "\n",
    "bill = 0\n",
    "if size == \"S\":\n",
    "    bill += 15\n",
    "# print(f\"Small Pizza is ${bill}\")\n",
    "elif size == \"M\":\n",
    "    bill += 20\n",
    "else:\n",
    "    bill += 25\n",
    "\n",
    "if add_pepperoni == \"Y\":\n",
    "    if size == \"S\":\n",
    "     bill +=2\n",
    "    else:\n",
    "     bill +=3\n",
    "\n",
    "if extra_cheese == \"Y\":\n",
    "    bill += 1\n",
    "print(f\"Your final bill is: ${bill}\")\n",
    "        \n"
   ]
  },
  {
   "cell_type": "code",
   "execution_count": null,
   "id": "1611d253",
   "metadata": {},
   "outputs": [],
   "source": []
  }
 ],
 "metadata": {
  "kernelspec": {
   "display_name": "Python 3 (ipykernel)",
   "language": "python",
   "name": "python3"
  },
  "language_info": {
   "codemirror_mode": {
    "name": "ipython",
    "version": 3
   },
   "file_extension": ".py",
   "mimetype": "text/x-python",
   "name": "python",
   "nbconvert_exporter": "python",
   "pygments_lexer": "ipython3",
   "version": "3.9.13"
  }
 },
 "nbformat": 4,
 "nbformat_minor": 5
}
