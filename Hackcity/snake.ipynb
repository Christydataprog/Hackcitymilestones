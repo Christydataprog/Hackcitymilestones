{
 "cells": [
  {
   "cell_type": "code",
   "execution_count": 2,
   "id": "d022b641",
   "metadata": {},
   "outputs": [],
   "source": [
    "from turtle import Turtle\n",
    "\n",
    "STARTING_POSITIONS = [(0, 0), (-20, 0), (-40, 0)]\n",
    "MOVE_DISTANCE = 20\n",
    "UP = 90\n",
    "DOWN = 270\n",
    "LEFT = 180\n",
    "RIGHT = 0\n",
    "\n",
    "\n",
    "class Snake:\n",
    "    def __init__(self):\n",
    "        self.segments = []\n",
    "        self.create_snake()\n",
    "        self.head = self.segments[0]\n",
    "\n",
    "    def create_snake(self):\n",
    "        for position in STARTING_POSITIONS:\n",
    "            new_segment = Turtle(\"square\")\n",
    "            new_segment.color(\"white\")\n",
    "            new_segment.penup()\n",
    "            new_segment.goto(position)\n",
    "            self.segments.append(new_segment)\n",
    "\n",
    "    def move(self):\n",
    "        for seg_num in range(len(self.segments) - 1, 0, -1):\n",
    "            new_x = self.segments[seg_num - 1].xcor()\n",
    "            new_y = self.segments[seg_num - 1].ycor()\n",
    "            self.segments[seg_num].goto(new_x, new_y)\n",
    "        self.head.forward(MOVE_DISTANCE)\n",
    "\n",
    "    def up(self):\n",
    "        if self.head.heading() != DOWN:\n",
    "            self.head.setheading(UP)\n",
    "\n",
    "    def down(self):\n",
    "        if self.head.heading() != UP:\n",
    "            self.head.setheading(DOWN)\n",
    "\n",
    "    def left(self):\n",
    "        if self.head.heading() != RIGHT:\n",
    "            self.head.setheading(LEFT)\n",
    "\n",
    "    def right(self):\n",
    "        if self.head.heading() != LEFT:\n",
    "            self.head.setheading(RIGHT)\n"
   ]
  },
  {
   "cell_type": "code",
   "execution_count": null,
   "id": "746e5b9d",
   "metadata": {},
   "outputs": [],
   "source": []
  },
  {
   "cell_type": "code",
   "execution_count": null,
   "id": "e3f2e47c",
   "metadata": {},
   "outputs": [],
   "source": []
  }
 ],
 "metadata": {
  "kernelspec": {
   "display_name": "Python 3 (ipykernel)",
   "language": "python",
   "name": "python3"
  },
  "language_info": {
   "codemirror_mode": {
    "name": "ipython",
    "version": 3
   },
   "file_extension": ".py",
   "mimetype": "text/x-python",
   "name": "python",
   "nbconvert_exporter": "python",
   "pygments_lexer": "ipython3",
   "version": "3.9.13"
  }
 },
 "nbformat": 4,
 "nbformat_minor": 5
}
