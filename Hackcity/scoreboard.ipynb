{
 "cells": [
  {
   "cell_type": "code",
   "execution_count": 3,
   "id": "72493b3f",
   "metadata": {},
   "outputs": [],
   "source": [
    "from turtle import Turtle\n",
    "\n",
    "class Scoreboard(Turtle):\n",
    "\n",
    "    def __init__(self):\n",
    "        super().__init__()\n",
    "        self.score = 0\n",
    "        self.color(\"white\")\n",
    "        self.penup()\n",
    "        self.goto(0, 270)\n",
    "        self.write(f\"Score: {self.score}\", align=\"center\", font=(\"Arial\", 24, \"normal\"))\n",
    "        self.hideturtle()\n",
    "\n",
    "    def increase_score(self):\n",
    "        self.score += 1\n",
    "        self.write(f\"Score: {self.score}\", align=\"center\", font=(\"Arial\", 24, \"normal\"))\n"
   ]
  },
  {
   "cell_type": "code",
   "execution_count": null,
   "id": "00cba768",
   "metadata": {},
   "outputs": [],
   "source": []
  }
 ],
 "metadata": {
  "kernelspec": {
   "display_name": "Python 3 (ipykernel)",
   "language": "python",
   "name": "python3"
  },
  "language_info": {
   "codemirror_mode": {
    "name": "ipython",
    "version": 3
   },
   "file_extension": ".py",
   "mimetype": "text/x-python",
   "name": "python",
   "nbconvert_exporter": "python",
   "pygments_lexer": "ipython3",
   "version": "3.9.13"
  }
 },
 "nbformat": 4,
 "nbformat_minor": 5
}
