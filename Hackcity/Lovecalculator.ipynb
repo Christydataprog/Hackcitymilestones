{
 "cells": [
  {
   "cell_type": "code",
   "execution_count": 19,
   "id": "273f00b3",
   "metadata": {},
   "outputs": [
    {
     "name": "stdout",
     "output_type": "stream",
     "text": [
      "Welcome to the Love Calculator\n",
      "What is your name? Tolani Obalaja\n",
      "What is their name? AKoomolafe OPaaje\n",
      "Your score is 311, you go together like coke and mentos.\n"
     ]
    }
   ],
   "source": [
    "print(\"Welcome to the Love Calculator\")\n",
    "name1 = input(\"What is your name? \")\n",
    "name2 = input(\"What is their name? \")\n",
    "\n",
    "combined_names = name1 + name2\n",
    "lower_case_combined = combined_names.lower()\n",
    "\n",
    "t = lower_case_combined.count(\"t\")\n",
    "r = lower_case_combined.count(\"r\")\n",
    "u = lower_case_combined.count(\"u\")\n",
    "e = lower_case_combined.count(\"e\")\n",
    "# print(t)\n",
    "true = t + r + u + e \n",
    "\n",
    "l = lower_case_combined.count(\"l\")\n",
    "o = lower_case_combined.count(\"o\")\n",
    "v = lower_case_combined.count(\"v\")\n",
    "e = lower_case_combined.count(\"e\")\n",
    "\n",
    "love = l + o + v + e\n",
    "\n",
    "love_score = int(str(true) + str(love))\n",
    "# print(love_score)\n",
    "if love_score < 10 or love_score > 90:\n",
    "    print(f\"Your score is {love_score}, you go together like coke and mentos.\")\n",
    "elif love_score >= 40 and love_score <= 50:\n",
    "    print(f\"Your score is {love_score}, you are alright together.\")\n",
    "else:\n",
    "    print(f\"Your score is {love_score}\")"
   ]
  },
  {
   "cell_type": "code",
   "execution_count": null,
   "id": "1702c96a",
   "metadata": {},
   "outputs": [],
   "source": []
  }
 ],
 "metadata": {
  "kernelspec": {
   "display_name": "Python 3 (ipykernel)",
   "language": "python",
   "name": "python3"
  },
  "language_info": {
   "codemirror_mode": {
    "name": "ipython",
    "version": 3
   },
   "file_extension": ".py",
   "mimetype": "text/x-python",
   "name": "python",
   "nbconvert_exporter": "python",
   "pygments_lexer": "ipython3",
   "version": "3.9.13"
  }
 },
 "nbformat": 4,
 "nbformat_minor": 5
}
